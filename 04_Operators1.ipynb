{
  "nbformat": 4,
  "nbformat_minor": 0,
  "metadata": {
    "colab": {
      "provenance": [],
      "include_colab_link": true
    },
    "kernelspec": {
      "name": "python3",
      "display_name": "Python 3"
    },
    "language_info": {
      "name": "python"
    }
  },
  "cells": [
    {
      "cell_type": "markdown",
      "metadata": {
        "id": "view-in-github",
        "colab_type": "text"
      },
      "source": [
        "<a href=\"https://colab.research.google.com/github/Rachel-N-Data/data-and-python/blob/main/04_Operators1.ipynb\" target=\"_parent\"><img src=\"https://colab.research.google.com/assets/colab-badge.svg\" alt=\"Open In Colab\"/></a>"
      ]
    },
    {
      "cell_type": "markdown",
      "source": [
        "<a href=\"https://colab.research.google.com/github/StefanMeyer7/Python-Fundamentals/blob/main/Operators_Practice1.ipynb\" target=\"_parent\"><img src=\"https://colab.research.google.com/assets/colab-badge.svg\" alt=\"Open In Colab\"/></a>"
      ],
      "metadata": {
        "id": "hypbENCo_DGn"
      }
    },
    {
      "cell_type": "markdown",
      "source": [
        "# Operators - arithmetic\n",
        "\n",
        "---"
      ],
      "metadata": {
        "id": "EnRmdmB10Yj5"
      }
    },
    {
      "cell_type": "markdown",
      "source": [
        "In Python, we can use the following arithmetic operators:  \n",
        "\n",
        "![Python operators](https://drive.google.com/uc?id=1EARs0OefvMwAULyNGGs01xYLW3lIAO9B)\n",
        "\n",
        "\n",
        "\n",
        "\n",
        "\n",
        "\n",
        "\n",
        "\n",
        "\n"
      ],
      "metadata": {
        "id": "SoYibwgF0Zmv"
      }
    },
    {
      "cell_type": "markdown",
      "source": [
        "---\n",
        "### Exercise 1 - multiplication of integers\n",
        "Write a function called **print_dog_human_age()** which will:  \n",
        "\n",
        "*  ask the user to input their dog's age and assign this to an integer variable called **dog_age**  \n",
        "*  calculate the dog’s age in human years by multiplying it by 7, assigning it to a new variable called **dog_human_age**  \n",
        "*  print the age in human years (`dog_human_age`)    \n",
        "\n",
        "Test Input:  \n",
        "4  \n",
        "\n",
        "Expected output:  \n",
        "28\n"
      ],
      "metadata": {
        "id": "8cOdsuX00gRo"
      }
    },
    {
      "cell_type": "code",
      "source": [
        "def print_dog_human_age():\n",
        "\n",
        "  dog_age=int(input(\"Enter your dog's age: \"))\n",
        "  dog_human_age=dog_age*7\n",
        "  print(dog_human_age)\n",
        "\n",
        "print_dog_human_age()"
      ],
      "metadata": {
        "id": "7c2DtRBv0jp0",
        "outputId": "4980639b-5aa2-4c15-dcc1-afa369b357f6",
        "colab": {
          "base_uri": "https://localhost:8080/"
        }
      },
      "execution_count": 1,
      "outputs": [
        {
          "output_type": "stream",
          "name": "stdout",
          "text": [
            "Enter your dog's age: 4\n",
            "28\n"
          ]
        }
      ]
    },
    {
      "cell_type": "markdown",
      "source": [
        "---\n",
        "### Exercise 2 - BIDMAS\n",
        "Write a function called **calculate_average()** which will:  \n",
        "\n",
        "*  ask the user for 3 seperate numbers, **num1**, **num2**, **num3**  \n",
        "*  calculate the **average** of the three numbers\n",
        "*  print the `average`, rounded to 2 decimal places  \n",
        "\n",
        "*Hint 1:  to round a number, use round(), e.g. round(`average`)  *\n",
        "*Hint 2: remember the BIDMAS order of operators and use brackets to change the order if necessary.*  \n",
        "\n",
        "Test Input:  \n",
        "3  \n",
        "5  \n",
        "9  \n",
        "\n",
        "Expected output:  \n",
        "5.67"
      ],
      "metadata": {
        "id": "OUzlA9oT0lYN"
      }
    },
    {
      "cell_type": "code",
      "source": [
        "def calculate_average():\n",
        "\n",
        "  num1=float(input(\"Enter the first number \"))\n",
        "  num2=float(input(\"Enter the second number \"))\n",
        "  num3=float(input(\"Enter the third number \"))\n",
        "\n",
        "  average=(num1+num2+num3)/3\n",
        "\n",
        "  print(round(average,2))\n",
        "\n",
        "calculate_average()"
      ],
      "metadata": {
        "id": "fycS5pTr0mWd",
        "outputId": "bd5fccfa-ac2f-473f-945a-6be665e08a21",
        "colab": {
          "base_uri": "https://localhost:8080/"
        }
      },
      "execution_count": 2,
      "outputs": [
        {
          "output_type": "stream",
          "name": "stdout",
          "text": [
            "Enter the first number 3\n",
            "Enter the second number 5\n",
            "Enter the third number 9\n",
            "5.67\n"
          ]
        }
      ]
    },
    {
      "cell_type": "markdown",
      "source": [
        "---\n",
        "### Exercise 3 - BIDMAS\n",
        "\n",
        "Write a function called **calculate_avg_height()** which will:  \n",
        "\n",
        "*  ask the user to input their **height**  \n",
        "*  convert `height` to **height_centimeters** (multiply by 100)  \n",
        "*  print `height_centimeters`  \n",
        "\n",
        "*Remember, height in metres is usually a decimal, so data type matters*  \n",
        "\n",
        "Test Input:  \n",
        "1.67  \n",
        "\n",
        "Expected output:  \n",
        "167\n"
      ],
      "metadata": {
        "id": "f5przU_E0nJ4"
      }
    },
    {
      "cell_type": "code",
      "source": [
        "def calculate_average_height():\n",
        "\n",
        "  height=float(input(\"Enter your height in metres: \"))\n",
        "  height_centimeters=int(height*100)\n",
        "\n",
        "  print(height_centimeters)\n",
        "calculate_average_height()"
      ],
      "metadata": {
        "id": "fWJKIb8k0ory",
        "outputId": "1d7f603c-3072-4b1e-c8bf-b3ebf9245473",
        "colab": {
          "base_uri": "https://localhost:8080/"
        }
      },
      "execution_count": 3,
      "outputs": [
        {
          "output_type": "stream",
          "name": "stdout",
          "text": [
            "Enter your height in metres: 1.67\n",
            "167\n"
          ]
        }
      ]
    },
    {
      "cell_type": "markdown",
      "source": [
        "---\n",
        "### Exercise 4 - float and formatting printing\n",
        "\n",
        "At the time of writing, the exchange rate from Pounds (£) to Euros (€) is 1.16 (£1 = €1.16).\n",
        "\n",
        "Write a function called **convert_currency(**) which will:\n",
        "\n",
        "*  ask a user to input an amount in **pounds**  \n",
        "*  calculate the equivalent number of **euros**  \n",
        "*  print `euros`, rounded to 2 decimal places  \n",
        "\n",
        "Test Input:  \n",
        "£60\n",
        "\n",
        "Expected output:  \n",
        "€69.6  \n",
        "\n",
        "*Remember, pounds is likely to be a decimal number and that the user should not enter the £ sign.*"
      ],
      "metadata": {
        "id": "QYPvmjUY0qj5"
      }
    },
    {
      "cell_type": "code",
      "source": [
        "def convert_currency():\n",
        "  pounds=float(float(input(\"Enter an amount in pounds: £\")))\n",
        "  euros=float(pounds*1.16)\n",
        "\n",
        "  print(\"€\",round(euros, 2))\n",
        "convert_currency()"
      ],
      "metadata": {
        "id": "csXus4bl0rdm",
        "outputId": "819abf54-3ae9-4810-b8b9-e2a6ce4cd4d4",
        "colab": {
          "base_uri": "https://localhost:8080/"
        }
      },
      "execution_count": 6,
      "outputs": [
        {
          "output_type": "stream",
          "name": "stdout",
          "text": [
            "Enter an amount in pounds: £60\n",
            "€ 69.6\n"
          ]
        }
      ]
    },
    {
      "cell_type": "markdown",
      "source": [
        "---\n",
        "### Exercise 5 - rounding\n",
        "\n",
        "Write a function called **calculate_stats()** which will:  \n",
        "\n",
        "*  assign the numbers 3.145, 5.6723 and 9.34 to the variables **num1**, **num2** and **num3** respectively  \n",
        "*  calculate the **total** of the three numbers, rounded to 2 decimal places  \n",
        "*  calculate the **average** of the numbers, rounded to 3 decimal places  \n",
        "*  print `total` and `average` in a message that labels them.\n",
        "\n",
        "Expected output:\n",
        "\n",
        "The total of the three numbers is 18.16  \n",
        "The average of the three numbers is 6.053\n",
        "\n",
        "*Remember to calculate the average you divide the total by the quantity of numbers, e.g. total/3*\n"
      ],
      "metadata": {
        "id": "nWi9kpu_0sdX"
      }
    },
    {
      "cell_type": "code",
      "source": [
        "def calculate_stats():\n",
        "  num1=float(3.145)\n",
        "  num2=float(5.6723)\n",
        "  num3=float(9.34)\n",
        "  total=(round((num1+num2+num3),2))\n",
        "  average=(round((total/3),3))\n",
        "\n",
        "  print(\"The total of the three numbers is\", total)\n",
        "  print(\"The average of the three numbers is\", average)\n",
        "calculate_stats()"
      ],
      "metadata": {
        "id": "j72MPPLN0tMs",
        "outputId": "0b3e5b48-c6d7-4324-9de0-9754bd284fbe",
        "colab": {
          "base_uri": "https://localhost:8080/"
        }
      },
      "execution_count": null,
      "outputs": [
        {
          "output_type": "stream",
          "name": "stdout",
          "text": [
            "The total of the three numbers is 18.16\n",
            "The average of the three numbers is 6.053\n"
          ]
        }
      ]
    },
    {
      "cell_type": "markdown",
      "source": [
        "---\n",
        "### Exercise 6 - calculating volume\n",
        "\n",
        "Bill is moving house. He needs to know how much space his cardboard packing boxes have.   \n",
        "\n",
        "Write a function called **calculate_volume()** which will:   \n",
        "\n",
        "*  assign the value 3.2, 5.6 and 7.8 to the variables **base**, **width** and **height** respectively  \n",
        "*  calculate the **box_volume** rounded to 1 decimal place  \n",
        "*  print the `box_volume`\n",
        "\n",
        "*Hint: volume = base x width x height*\n",
        "\n",
        "Expected output:  \n",
        "139.8\n"
      ],
      "metadata": {
        "id": "O2y1wwGp0uph"
      }
    },
    {
      "cell_type": "code",
      "source": [
        "def calculate_volume():\n",
        "  base, width, height= 3.2, 5.6, 7.8\n",
        "  box_volume=(round((base*width*height),1))\n",
        "\n",
        "  print(box_volume)\n",
        "calculate_volume()"
      ],
      "metadata": {
        "id": "0UMQ7wqU0vvp",
        "outputId": "db6bd6e3-fa58-4364-ea5f-da73959ed50d",
        "colab": {
          "base_uri": "https://localhost:8080/"
        }
      },
      "execution_count": null,
      "outputs": [
        {
          "output_type": "stream",
          "name": "stdout",
          "text": [
            "139.8\n"
          ]
        }
      ]
    },
    {
      "cell_type": "markdown",
      "source": [
        "---\n",
        "***Floor Division***  \n",
        "*So far, we have been using standard arithmetic operators. If we would like to divide without remainders (eg. no decimals) we can use floor division using the // operator.  This will always round down*.  \n",
        "\n",
        "*For example*:  \n",
        "*42/8 = 5.75*  \n",
        "*BUT*  \n",
        "4*2//8 = 5*"
      ],
      "metadata": {
        "id": "0glFo12x0xP1"
      }
    },
    {
      "cell_type": "markdown",
      "source": [
        "---\n",
        "### Exercise 7 - calculating with volumes\n",
        "\n",
        "Bill needs to work out how many boxes he will need.  \n",
        "\n",
        "Building on what you did in the last exercise, write a function called **calculate_boxes(base, width, height)** which will:  \n",
        "\n",
        "*  calculate the volume of a box, using the **base**, **width** and **height** supplied in the brackets  \n",
        "*  ask Bill for the **total_volume** of his stuff  \n",
        "*  calculate the total **number_of_boxes** he will need, and print the `number_of_boxes`  \n",
        "\n",
        "*Hint: the `total` will not be a decimal number - you should use floor division and add one to the answer (for the box that will have the leftovers).*\n",
        "\n",
        "Test Input:  \n",
        "1500  \n",
        "\n",
        "Expected output:  \n",
        "11  \n"
      ],
      "metadata": {
        "id": "NLSvu6AE0zAv"
      }
    },
    {
      "cell_type": "code",
      "source": [
        "def calculate_boxes(base, width, height):\n",
        "  # add your code below here to calculate the boxVolume, ask for totalVolume and calculate number of boxes\n",
        "\n",
        "#calculate_boxes()\n",
        "  box_volume=(round((base*width*height),1))\n",
        "  total_volume=float(input(\"Enter total volume of items needing packed: \"))\n",
        "  number_of_boxes=int((total_volume//box_volume)+1)\n",
        "\n",
        "  print(number_of_boxes)\n",
        "calculate_boxes(3.2, 5.6, 7.8)\n"
      ],
      "metadata": {
        "id": "Xna4PbY90z8u",
        "outputId": "3b6934d1-f745-40c8-bafa-fda02dc48788",
        "colab": {
          "base_uri": "https://localhost:8080/"
        }
      },
      "execution_count": 7,
      "outputs": [
        {
          "output_type": "stream",
          "name": "stdout",
          "text": [
            "Enter total volume of items needing packed: 1500\n",
            "11\n"
          ]
        }
      ]
    },
    {
      "cell_type": "markdown",
      "source": [
        "---\n",
        "### Exercise 8 - rounding up\n",
        "\n",
        "Write a function called **calculate_parcel_weight()** which will:  \n",
        "\n",
        "*  ask the user to enter the weights, in kg, of four parcels (**weight1, weight2, weight3, weight4**)\n",
        "*  calculate the total **parcel_weight** and display this in a whole number of kg, **rounded up**  \n",
        "*  print the `parcel_weight`\n",
        "\n",
        "\n",
        "Test Inputs:  \n",
        "1.23  \n",
        "2.84  \n",
        "1.675  \n",
        "3.03  \n",
        "\n",
        "Expected output:  \n",
        "9kg\n"
      ],
      "metadata": {
        "id": "FugBpdSk02Pq"
      }
    },
    {
      "cell_type": "code",
      "source": [
        "def calculate_parcel_weight():\n",
        "  weight1=float(input(\"Enter the weight of parcel 1 in kg: \"))\n",
        "  weight2=float(input(\"Enter the weight of parcel 2 in kg: \"))\n",
        "  weight3=float(input(\"Enter the weight of parcel 3 in kg: \"))\n",
        "  weight4=float(input(\"Enter the weight of parcel 4 in kg: \"))\n",
        "  parcel_weight=int((weight1+weight2+weight3+weight4)+1)\n",
        "\n",
        "  print(parcel_weight,\"kg\")\n",
        "calculate_parcel_weight()"
      ],
      "metadata": {
        "id": "CZzLghON0311",
        "outputId": "1af3894d-5e16-49a5-898f-184a00186780",
        "colab": {
          "base_uri": "https://localhost:8080/"
        }
      },
      "execution_count": 11,
      "outputs": [
        {
          "output_type": "stream",
          "name": "stdout",
          "text": [
            "Enter the weight of parcel 1 in kg: 1.23\n",
            "Enter the weight of parcel 2 in kg: 2.84\n",
            "Enter the weight of parcel 3 in kg: 1.675\n",
            "Enter the weight of parcel 4 in kg: 3.03\n",
            "9 kg\n"
          ]
        }
      ]
    },
    {
      "cell_type": "markdown",
      "source": [
        "---\n",
        "### Exercise 9 - modulus\n",
        "\n",
        "Write a function called **get_pm_minutes()** which will:  \n",
        "\n",
        "*  ask the user to enter an afternoon **time** in 24 hour clock (e.g. 1350)\n",
        "*  use floor division to get the **hour** (ie divide by 100)  \n",
        "*  use modulus to get the **minutes**  \n",
        "*  subtract 12 to get the 12 hour clock storing the result back in `hour`      \n",
        "*  print a message to say that It is `minutes` minutes past `hour` PM\n",
        "\n",
        "Test Input:  \n",
        "1350  \n",
        "\n",
        "Expected output:  \n",
        "It is 50 minutes past 1 PM\n",
        "\n",
        "*(Is it possible to use this code to get the right hour for a morning time?  You will do this in the section that allows selection depending on value)*\n",
        "\n"
      ],
      "metadata": {
        "id": "6IO8QBaM05Ps"
      }
    },
    {
      "cell_type": "code",
      "source": [
        "def get_pm_minutes():\n",
        "  time=int(input(\"Enter a time in 24 hour clock format (e.g. 1350): \"))\n",
        "  hour=int(time//100)\n",
        "  minutes=int(time%100)\n",
        "  hourPM=int(hour-12)\n",
        "  if ( hour==0 ) : print(\"It is\",minutes,\"minutes past midnight\")\n",
        "  if ( hour>0 and hour<12 ) : print(\"It is\",minutes,\"minutes past\",hour,\"AM\")\n",
        "  if ( hour==12 ) : print(\"It is\",minutes,\"minutes past noon\")\n",
        "  if ( hour>=13 ) : print(\"It is\",minutes,\"minutes past\",hourPM,\"PM\")\n",
        "\n",
        "get_pm_minutes()"
      ],
      "metadata": {
        "id": "5YqZzdDr06At",
        "outputId": "78689272-b01a-47b6-8a23-cd9f9b3bba53",
        "colab": {
          "base_uri": "https://localhost:8080/"
        }
      },
      "execution_count": 12,
      "outputs": [
        {
          "output_type": "stream",
          "name": "stdout",
          "text": [
            "Enter a time in 24 hour clock format (e.g. 1350): 1350\n",
            "It is 50 minutes past 1 PM\n"
          ]
        }
      ]
    },
    {
      "cell_type": "markdown",
      "source": [
        "---\n",
        "### Exercise 10 - How many tins of beans?  \n",
        "\n",
        "Write a function called **calculate_tins()** that will calculate how many tins of beans will fit in a cardboard box. Bean tins are *11cm tall* and *8cm* diameter.  All tins will be standing up and can be stacked in layers.  \n",
        "\n",
        "*  use the **height**, **width** and **depth** of the box supplied in the function’s brackets.   \n",
        "*  calculate the **number_of_tins** that can fit in the box   \n",
        "*  print the `number_of_tins` that can fit  \n",
        "\n",
        "*Hint: you will need to calculate the number of layers, and the number that will fit in each direction, the product (all of the numbers multiplied together) will tell you how many tins. All answers must be whole numbers*  \n",
        "\n",
        "\n",
        "Expected output:  \n",
        "24 tins will fit in this box  \n"
      ],
      "metadata": {
        "id": "jtDPyVnv07F_"
      }
    },
    {
      "cell_type": "code",
      "source": [
        "def calculate_tins(height, width, depth):\n",
        "   # add your code below here\n",
        "     box_volume=(round((height*width*depth),1))\n",
        "     tin_height=int(11)\n",
        "     tin_diameter=int(8)\n",
        "     number_of_tins=int((height//tin_height)*(width//tin_diameter)*(depth//tin_diameter))\n",
        "\n",
        "     print(number_of_tins,\"tins will fit in this box\")\n",
        "\n",
        "\n",
        "calculate_tins(24, 50, 18)\n"
      ],
      "metadata": {
        "id": "v_t4JqgS075s",
        "outputId": "ca36ac7e-769a-4bdf-e051-46908063f51e",
        "colab": {
          "base_uri": "https://localhost:8080/"
        }
      },
      "execution_count": 13,
      "outputs": [
        {
          "output_type": "stream",
          "name": "stdout",
          "text": [
            "24 tins will fit in this box\n"
          ]
        }
      ]
    }
  ]
}