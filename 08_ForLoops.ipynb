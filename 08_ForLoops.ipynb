{
  "cells": [
    {
      "cell_type": "markdown",
      "metadata": {
        "id": "view-in-github",
        "colab_type": "text"
      },
      "source": [
        "<a href=\"https://colab.research.google.com/github/Rachel-N-Data/data-and-python/blob/main/08_ForLoops.ipynb\" target=\"_parent\"><img src=\"https://colab.research.google.com/assets/colab-badge.svg\" alt=\"Open In Colab\"/></a>"
      ]
    },
    {
      "cell_type": "markdown",
      "metadata": {
        "id": "Vvcpt-18AqVE"
      },
      "source": [
        "<a href=\"https://colab.research.google.com/github/StefanMeyer7/Python-Fundamentals/blob/main/ForLoops.ipynb\" target=\"_parent\"><img src=\"https://colab.research.google.com/assets/colab-badge.svg\" alt=\"Open In Colab\"/></a>"
      ]
    },
    {
      "cell_type": "markdown",
      "metadata": {
        "id": "bDcH7d1fQkv4"
      },
      "source": [
        "# For Loops\n",
        "\n",
        "---\n"
      ]
    },
    {
      "cell_type": "markdown",
      "metadata": {
        "id": "827YLWj3QmTZ"
      },
      "source": [
        "When you know how many times a loop should run you can use a *for* loop.  \n",
        "\n",
        "Here is an example:  \n",
        "\n",
        "Suppose we want to read 10 numbers from the keyboard, add them up and print the total. We can use a *for* loop as we know that we want to read from the keyboard exactly 10 times.\n",
        "\n",
        "The logic is:"
      ]
    },
    {
      "cell_type": "code",
      "execution_count": null,
      "metadata": {
        "id": "z2Nt1I_9Qox6",
        "outputId": "deb2b81c-4868-4ff9-8a25-a3875fc84e40",
        "colab": {
          "base_uri": "https://localhost:8080/"
        }
      },
      "outputs": [
        {
          "output_type": "stream",
          "name": "stdout",
          "text": [
            "Enter a number2\n",
            "Enter a number3\n",
            "Enter a number3\n",
            "Enter a number2\n",
            "Enter a number2\n",
            "Enter a number3\n",
            "Enter a number2\n",
            "Enter a number3\n",
            "Enter a number2\n",
            "Enter a number2\n",
            "24\n"
          ]
        }
      ],
      "source": [
        "2# initialise a total so that it starts at 0\n",
        "# read 10 numbers from the keyboard and keep a running total\n",
        "# print the total\n",
        "\n",
        "def read_ten_nums():\n",
        "  total = 0\n",
        "  for i in range(10):\n",
        "    num = int(input(\"Enter a number\"))\n",
        "    total = total + num\n",
        "  print(total)\n",
        "\n",
        "read_ten_nums()"
      ]
    },
    {
      "cell_type": "markdown",
      "metadata": {
        "id": "cWuyG25-QrFQ"
      },
      "source": [
        "The *for* loop here repeats 10 times. Each time round the loop, a number is read and is added to the total. After this has happened 10 times, the total will be printed.\n",
        "\n",
        "Notice that all the code to be repeated in the loop is indented, but the instruction to print is not indented like the lines above. This is because print(total) is not included in the loop, it should only run once.\n",
        "\n",
        "You can use a *for* loop on Strings too:"
      ]
    },
    {
      "cell_type": "code",
      "execution_count": null,
      "metadata": {
        "id": "w37H9F5gQsrq",
        "outputId": "43f5dad4-79de-4ee7-aeb8-b67a75f4b6e5",
        "colab": {
          "base_uri": "https://localhost:8080/"
        }
      },
      "outputs": [
        {
          "output_type": "stream",
          "name": "stdout",
          "text": [
            "l\n",
            "e\n",
            "a\n",
            "r\n",
            "n\n",
            "i\n",
            "n\n",
            "g\n"
          ]
        }
      ],
      "source": [
        "def print_characters():\n",
        "  word = \"learning\"\n",
        "  for letter in word:\n",
        "    print(letter)\n",
        "print_characters()"
      ]
    },
    {
      "cell_type": "markdown",
      "metadata": {
        "id": "OhSyHe5HQuMs"
      },
      "source": [
        "### Using the range() function:\n",
        "\n",
        "If we would like a selection of numbers within a defined range we can use the **range()** function.\n",
        "\n",
        "It can be used in the following ways:\n",
        "\n",
        "* **range(n)** - this would give all numbers in the range 0 to n-1\n",
        "\n",
        "* **range(num1, num2)** - this would give all numbers in range num1 to num2-1\n",
        "\n",
        "For example:\n",
        "\n",
        "If we wanted numbers within the range of 1 - 5 we would write this as range(1, 6)\n",
        "\n",
        "* the second argument must always be the number you would like the range to go up to + 1 (n+1)\n",
        "\n",
        "Here is an example that prints all the numbers up to 5, (starting at 0 as this is the default if there is no other information).  Run the code below:"
      ]
    },
    {
      "cell_type": "code",
      "execution_count": null,
      "metadata": {
        "id": "d1d5HRx6Qu2J",
        "outputId": "683427cd-a33e-477b-babc-7a5db1e4f94b",
        "colab": {
          "base_uri": "https://localhost:8080/"
        }
      },
      "outputs": [
        {
          "output_type": "stream",
          "name": "stdout",
          "text": [
            "0\n",
            "1\n",
            "2\n",
            "3\n",
            "4\n",
            "5\n"
          ]
        }
      ],
      "source": [
        "def show_range():\n",
        "  for i in range(6):\n",
        "    print(i)\n",
        "\n",
        "show_range()"
      ]
    },
    {
      "cell_type": "markdown",
      "metadata": {
        "id": "z-EVs9RQQwSX"
      },
      "source": [
        "Here is an example that prints all numbers in range 1 - 5, run the code below:"
      ]
    },
    {
      "cell_type": "code",
      "execution_count": null,
      "metadata": {
        "id": "OcIe8c1YQyI0",
        "outputId": "721cde0e-1a03-40fe-b1bd-1d520ee62b4d",
        "colab": {
          "base_uri": "https://localhost:8080/"
        }
      },
      "outputs": [
        {
          "output_type": "stream",
          "name": "stdout",
          "text": [
            "1\n",
            "2\n",
            "3\n",
            "4\n",
            "5\n"
          ]
        }
      ],
      "source": [
        "def show_range():\n",
        "  for i in range(1, 6):\n",
        "    print(i)\n",
        "\n",
        "show_range()"
      ]
    },
    {
      "cell_type": "markdown",
      "metadata": {
        "id": "aqvZTD71QzXY"
      },
      "source": [
        "## Using steps\n",
        "\n",
        "In general, if we use a range, we give a starting number and a stopping number (the first number that is out of the range in the direction we are counting).  The default is to count up in 1s.  \n",
        "\n",
        "When we want a loop to count in bigger steps, we can add a further parameter in the range brackets, which represents the size of the step.\n",
        "\n",
        "e.g. to print the even numbers up to 10 (starting with the first even number)\n",
        "\n",
        "```\n",
        "for i in range(2,11,2):\n",
        "   print(i)\n",
        "```\n",
        "\n",
        "e.g. to print all multiples of 5 from 5 to 50 (starting with the first multiple)\n",
        "\n",
        "\n",
        "```\n",
        "for i in range(5,51,5):\n",
        "   print(i)\n",
        "```\n",
        "\n",
        "We can use steps to **reverse** the direction of counting.  So to count backwards from 10 to 1, we can use a step of -1.  Again, use the starting number, the number AFTER the last number to be included, in the direction we are counting, and the size and direction of the step.\n",
        "\n",
        "```\n",
        "for i in range(10, 0, -1):\n",
        "   print(i)\n",
        "```"
      ]
    },
    {
      "cell_type": "markdown",
      "metadata": {
        "id": "oH55yDWBQ1rg"
      },
      "source": [
        "### Take home point\n",
        "\n",
        "* we use *for* loops to make a section of code repeat a set number of times\n"
      ]
    },
    {
      "cell_type": "markdown",
      "metadata": {
        "id": "xl3GjgTMQ21w"
      },
      "source": [
        "---\n",
        "### Exercise 1 - number list\n",
        "\n",
        "Write a function called **list_numbers()** which will:  \n",
        "\n",
        "*  print all the whole numbers up to 9  \n",
        "\n",
        "Expected output:  \n",
        "0  \n",
        "1  \n",
        "2  \n",
        "3  \n",
        "4  \n",
        "5  \n",
        "6  \n",
        "7  \n",
        "8  \n",
        "9  "
      ]
    },
    {
      "cell_type": "code",
      "execution_count": null,
      "metadata": {
        "id": "bZDYaPXlQ3sP",
        "outputId": "f8a3e513-3160-4fcf-e239-c348c20f611f",
        "colab": {
          "base_uri": "https://localhost:8080/"
        }
      },
      "outputs": [
        {
          "output_type": "stream",
          "name": "stdout",
          "text": [
            "0\n",
            "1\n",
            "2\n",
            "3\n",
            "4\n",
            "5\n",
            "6\n",
            "7\n",
            "8\n",
            "9\n"
          ]
        }
      ],
      "source": [
        "def list_numbers():\n",
        "  for i in range(10):\n",
        "    print(i)\n",
        "list_numbers()"
      ]
    },
    {
      "cell_type": "markdown",
      "metadata": {
        "id": "aspfx0_6Q5Zu"
      },
      "source": [
        "---\n",
        "### Exercise 2 - list number range  \n",
        "\n",
        "Write a function called **list_number_range()** which will:  \n",
        "\n",
        "* print the numbers between 5 and 15 (including both)  \n",
        "\n",
        "Expected output:  \n",
        "5  \n",
        "6  \n",
        "7  \n",
        "8  \n",
        "9  \n",
        "10  \n",
        "11  \n",
        "12  \n",
        "13  \n",
        "14  \n",
        "15  \n",
        "\n"
      ]
    },
    {
      "cell_type": "code",
      "execution_count": null,
      "metadata": {
        "id": "SC_XNzioQ6Dg",
        "outputId": "241b1b17-83ca-4c1e-95ac-1626ca539ba4",
        "colab": {
          "base_uri": "https://localhost:8080/"
        }
      },
      "outputs": [
        {
          "output_type": "stream",
          "name": "stdout",
          "text": [
            "5\n",
            "6\n",
            "7\n",
            "8\n",
            "9\n",
            "10\n",
            "11\n",
            "12\n",
            "13\n",
            "14\n",
            "15\n"
          ]
        }
      ],
      "source": [
        "def list_numbers_range():\n",
        "\n",
        "  for i in range(5,16):\n",
        "    print(i)\n",
        "\n",
        "list_numbers_range()"
      ]
    },
    {
      "cell_type": "markdown",
      "metadata": {
        "id": "gveQHu_7Q7o3"
      },
      "source": [
        "---\n",
        "### Exercise 3 - list evens  \n",
        "\n",
        "Write a function called **list_evens()** which will:  \n",
        "\n",
        "*  print the even numbers from 2 to 20  \n",
        "\n",
        "Expected output:  \n",
        "2  \n",
        "4  \n",
        "6  \n",
        "8  \n",
        "10  \n",
        "12  \n",
        "14  \n",
        "16  \n",
        "18  \n",
        "20  "
      ]
    },
    {
      "cell_type": "code",
      "execution_count": null,
      "metadata": {
        "id": "XVrcH5nfQ9ZK",
        "outputId": "5a1e70d7-49c4-4e5d-8344-f88fe393171b",
        "colab": {
          "base_uri": "https://localhost:8080/"
        }
      },
      "outputs": [
        {
          "output_type": "stream",
          "name": "stdout",
          "text": [
            "2\n",
            "4\n",
            "6\n",
            "8\n",
            "10\n",
            "12\n",
            "14\n",
            "16\n",
            "18\n",
            "20\n"
          ]
        }
      ],
      "source": [
        "def list_evens():\n",
        "\n",
        "  for i in range(2,21,2):\n",
        "    print(i)\n",
        "\n",
        "list_evens()"
      ]
    },
    {
      "cell_type": "markdown",
      "metadata": {
        "id": "hp5HUcqEQ9f5"
      },
      "source": [
        "---\n",
        "### Exercise 4 - list multiples  \n",
        "\n",
        "Write a function called **list_multiples()** which will:\n",
        "\n",
        "*  list the multiples of 3 from 3 to 36\n",
        "\n",
        "Expected output:  \n",
        "3  \n",
        "6  \n",
        "9  \n",
        "12  \n",
        "15  \n",
        "18  \n",
        "21  \n",
        "24  \n",
        "27  \n",
        "30  \n",
        "33  \n",
        "36  "
      ]
    },
    {
      "cell_type": "code",
      "execution_count": null,
      "metadata": {
        "id": "VW44o2__Q_P4",
        "outputId": "7b90f2ea-71d4-4b02-ded5-e33ebf373070",
        "colab": {
          "base_uri": "https://localhost:8080/"
        }
      },
      "outputs": [
        {
          "output_type": "stream",
          "name": "stdout",
          "text": [
            "3\n",
            "6\n",
            "9\n",
            "12\n",
            "15\n",
            "18\n",
            "21\n",
            "24\n",
            "27\n",
            "30\n",
            "33\n",
            "36\n"
          ]
        }
      ],
      "source": [
        "def list_multiples():\n",
        "\n",
        "  for i in range(3,37,3):\n",
        "    print(i)\n",
        "list_multiples()"
      ]
    },
    {
      "cell_type": "markdown",
      "metadata": {
        "id": "jO5gqZASQ_rp"
      },
      "source": [
        "---\n",
        "### Exercise 5 - reverse list\n",
        "\n",
        "Write a function called list_reverse() which will:\n",
        "\n",
        "*  print the numbers 5 to 15 in reverse\n",
        "\n",
        "Expected output:  \n",
        "15  \n",
        "14  \n",
        "13  \n",
        "12  \n",
        "11  \n",
        "10  \n",
        "9  \n",
        "8  \n",
        "7  \n",
        "6  \n",
        "5  "
      ]
    },
    {
      "cell_type": "code",
      "execution_count": null,
      "metadata": {
        "id": "qXff6eefRBLq",
        "outputId": "7de77ccb-0e45-4f2d-c0ea-05320d0ea4d6",
        "colab": {
          "base_uri": "https://localhost:8080/"
        }
      },
      "outputs": [
        {
          "output_type": "stream",
          "name": "stdout",
          "text": [
            "15\n",
            "14\n",
            "13\n",
            "12\n",
            "11\n",
            "10\n",
            "9\n",
            "8\n",
            "7\n",
            "6\n",
            "5\n"
          ]
        }
      ],
      "source": [
        "def list_reverse():\n",
        "\n",
        "  for i in range(15,4,-1):\n",
        "    print(i)\n",
        "\n",
        "list_reverse()"
      ]
    },
    {
      "cell_type": "markdown",
      "metadata": {
        "id": "6dJLOeUdRBnd"
      },
      "source": [
        "---\n",
        "### Exercise 6 - sum of range\n",
        "\n",
        "Write the function **calculate_sum_of()** which will:\n",
        "\n",
        "*  set a total to 0\n",
        "*  use the `range()` function for all the numbers between 1 - 15, adding each onto a **total** in the `for loop`     \n",
        "*  print the `total`   \n",
        "\n",
        "\n",
        "Expected output:  \n",
        "120\n"
      ]
    },
    {
      "cell_type": "code",
      "execution_count": null,
      "metadata": {
        "id": "bVC7rO7BRC2Z",
        "outputId": "13b0598e-6f3d-4b8c-a8e0-5d1559a86511",
        "colab": {
          "base_uri": "https://localhost:8080/"
        }
      },
      "outputs": [
        {
          "output_type": "stream",
          "name": "stdout",
          "text": [
            "120\n"
          ]
        }
      ],
      "source": [
        "def calculate_sum_of():\n",
        "\n",
        "  total=0\n",
        "\n",
        "  for i in range(16):\n",
        "    total=total+i\n",
        "  print(total)\n",
        "\n",
        "calculate_sum_of()"
      ]
    },
    {
      "cell_type": "markdown",
      "metadata": {
        "id": "r1v2ApqqRDR5"
      },
      "source": [
        "### Exercise 7 - calculating the average of 5 numbers   \n",
        "\n",
        "Write a function called **average()** which will:  \n",
        "\n",
        "*  set a total to 0\n",
        "*  ask the user to enter a number 5 times, using a `for loop` with a range and adding the numbers to the `total` as the loop continues  \n",
        "*  calculate the **average** of the 5 numbers  \n",
        "*  print the `total` and `average`  \n",
        "\n",
        "Test input:  \n",
        "1  \n",
        "2   \n",
        "3  \n",
        "4  \n",
        "5  \n",
        "\n",
        "Expected output:   \n",
        "3  \n",
        "\n"
      ]
    },
    {
      "cell_type": "code",
      "execution_count": 1,
      "metadata": {
        "id": "3tXXZdZRRFCE",
        "outputId": "87cd7a1e-b65e-4d2c-88b7-143bf0bf3402",
        "colab": {
          "base_uri": "https://localhost:8080/"
        }
      },
      "outputs": [
        {
          "output_type": "stream",
          "name": "stdout",
          "text": [
            "Please enter a number: 1\n",
            "Please enter a number: 2\n",
            "Please enter a number: 3\n",
            "Please enter a number: 4\n",
            "Please enter a number: 5\n",
            "Total: 15\n",
            "Average: 3\n"
          ]
        }
      ],
      "source": [
        "def average():\n",
        "\n",
        "  total=0\n",
        "\n",
        "  for i in range (1,6):\n",
        "    number=int(input(\"Please enter a number: \"))\n",
        "    total=total+number\n",
        "  average=int(total/i)\n",
        "  print(\"Total:\",total)\n",
        "  print(\"Average:\",average)\n",
        "\n",
        "average()"
      ]
    },
    {
      "cell_type": "markdown",
      "metadata": {
        "id": "MMLz5iTtRFJY"
      },
      "source": [
        "### Exercise 8 - calculating times table\n",
        "\n",
        "Write a function called **display_times_table()** which will:  \n",
        "\n",
        "*  ask the user to input a **number**\n",
        "*  use a for loop and the `range()` function to calculate the first ten multiples of that number and print a times table entry as shown below\n",
        "\n",
        "Test Input:  \n",
        "4  \n",
        "\n",
        "Expected output:  \n",
        "1 x 4 = 4  \n",
        "2 x 4 = 8  \n",
        "3 x 4 = 12  \n",
        "4 x 4 = 16  \n",
        "5 x 4 = 20  \n",
        "6 x 4 = 24  \n",
        "7 x 4 = 28  \n",
        "8 x 4 = 32  \n",
        "9 x 4 = 36  \n",
        "10 x 4 = 40  "
      ]
    },
    {
      "cell_type": "code",
      "execution_count": null,
      "metadata": {
        "id": "lrIgE20tRG1E",
        "outputId": "e6583fd0-29b2-46e9-8819-9f85d21b8efc",
        "colab": {
          "base_uri": "https://localhost:8080/"
        }
      },
      "outputs": [
        {
          "output_type": "stream",
          "name": "stdout",
          "text": [
            "Which times table would you like to display? 4\n",
            "1 x 4 = 4\n",
            "2 x 4 = 8\n",
            "3 x 4 = 12\n",
            "4 x 4 = 16\n",
            "5 x 4 = 20\n",
            "6 x 4 = 24\n",
            "7 x 4 = 28\n",
            "8 x 4 = 32\n",
            "9 x 4 = 36\n",
            "10 x 4 = 40\n"
          ]
        }
      ],
      "source": [
        "def display_times_table():\n",
        "\n",
        "  number=int(input(\"Which times table would you like to display? \"))\n",
        "\n",
        "  for i in range(1,11):\n",
        "    print(i,\"x\", number,\"=\", number*i)\n",
        "\n",
        "display_times_table()"
      ]
    },
    {
      "cell_type": "markdown",
      "metadata": {
        "id": "uc66qYozRHWv"
      },
      "source": [
        "### Exercise 9 - counting down numbers in reverse\n",
        "\n",
        "Write a function called **countdown()** which will:\n",
        "\n",
        "*  ask the user to input a **number**\n",
        "*  prints numbers in a countdown starting at `number`, decreasing by 1 each time round the loop and finishing at 1\n",
        "*  after the loop, print (\"GO\")\n",
        "\n",
        "Test Input:  \n",
        "9    \n",
        "\n",
        "Expected output:   \n",
        "9  \n",
        "8  \n",
        "7  \n",
        "6  \n",
        "5  \n",
        "4  \n",
        "3  \n",
        "2  \n",
        "1  \n",
        "GO  \n"
      ]
    },
    {
      "cell_type": "code",
      "execution_count": null,
      "metadata": {
        "id": "J6kJ9Wa-RIWI",
        "outputId": "a95009cb-61be-4fe3-a17d-a40b5055f1b5",
        "colab": {
          "base_uri": "https://localhost:8080/"
        }
      },
      "outputs": [
        {
          "output_type": "stream",
          "name": "stdout",
          "text": [
            "Enter a number to start the countdown from: 9\n",
            "9\n",
            "8\n",
            "7\n",
            "6\n",
            "5\n",
            "4\n",
            "3\n",
            "2\n",
            "1\n",
            "GO\n"
          ]
        }
      ],
      "source": [
        "def countdown():\n",
        "\n",
        "  number=int(input(\"Enter a number to start the countdown from: \"))\n",
        "\n",
        "  for i in range(number,0,-1):\n",
        "    print(i)\n",
        "  print(\"GO\")\n",
        "\n",
        "countdown()"
      ]
    },
    {
      "cell_type": "markdown",
      "metadata": {
        "id": "Ekag7shxRJX4"
      },
      "source": [
        "### Exercise 10 - finding numbers which are multiples of both 3 and 10, between 500 and 1500  \n",
        "\n",
        "Write a function called **find_multiples()** which will find numbers between 500 - 1500 which are multiples of 3 and multiples of 10:\n",
        "\n",
        "*  use a for loop and the `range()` function  \n",
        "*  use an *if* statment to determine if a number is a multiple of 3 (number % 3 is 0) and a multiple of 10 (calculated the same way).  If the number is a multiple of 3 and 10, print it.      \n",
        "\n",
        "Expected output:  \n",
        "510  \n",
        "540  \n",
        "570  \n",
        "600  \n",
        "630  \n",
        "660  \n",
        "690  \n",
        "720  \n",
        "750  \n",
        "780  \n",
        "810  \n",
        "840  \n",
        "870  \n",
        "900  \n",
        "930  \n",
        "960  \n",
        "990  \n",
        "1020  \n",
        "1050  \n",
        "1080  \n",
        "1110  \n",
        "1140  \n",
        "1170  \n",
        "1200  \n",
        "1230  \n",
        "1260  \n",
        "1290  \n",
        "1320  \n",
        "1350  \n",
        "1380  \n",
        "1410  \n",
        "1440  \n",
        "1470  "
      ]
    },
    {
      "cell_type": "code",
      "execution_count": null,
      "metadata": {
        "id": "teIAVCf0RKPV",
        "outputId": "5eafcc51-6f55-4963-c811-6ba518fd3c0a",
        "colab": {
          "base_uri": "https://localhost:8080/"
        }
      },
      "outputs": [
        {
          "output_type": "stream",
          "name": "stdout",
          "text": [
            "510\n",
            "540\n",
            "570\n",
            "600\n",
            "630\n",
            "660\n",
            "690\n",
            "720\n",
            "750\n",
            "780\n",
            "810\n",
            "840\n",
            "870\n",
            "900\n",
            "930\n",
            "960\n",
            "990\n",
            "1020\n",
            "1050\n",
            "1080\n",
            "1110\n",
            "1140\n",
            "1170\n",
            "1200\n",
            "1230\n",
            "1260\n",
            "1290\n",
            "1320\n",
            "1350\n",
            "1380\n",
            "1410\n",
            "1440\n",
            "1470\n"
          ]
        }
      ],
      "source": [
        "def find_multiples():\n",
        "\n",
        "  for i in range (500, 1500):\n",
        "    if i%3==0 and i%10==0:\n",
        "      print(i)\n",
        "\n",
        "find_multiples()"
      ]
    }
  ],
  "metadata": {
    "colab": {
      "provenance": [],
      "include_colab_link": true
    },
    "kernelspec": {
      "display_name": "Python 3",
      "name": "python3"
    },
    "language_info": {
      "name": "python"
    }
  },
  "nbformat": 4,
  "nbformat_minor": 0
}