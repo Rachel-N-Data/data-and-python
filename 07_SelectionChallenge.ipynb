{
  "nbformat": 4,
  "nbformat_minor": 0,
  "metadata": {
    "colab": {
      "provenance": [],
      "include_colab_link": true
    },
    "kernelspec": {
      "name": "python3",
      "display_name": "Python 3"
    },
    "language_info": {
      "name": "python"
    }
  },
  "cells": [
    {
      "cell_type": "markdown",
      "metadata": {
        "id": "view-in-github",
        "colab_type": "text"
      },
      "source": [
        "<a href=\"https://colab.research.google.com/github/Rachel-N-Data/data-and-python/blob/main/07_SelectionChallenge.ipynb\" target=\"_parent\"><img src=\"https://colab.research.google.com/assets/colab-badge.svg\" alt=\"Open In Colab\"/></a>"
      ]
    },
    {
      "cell_type": "markdown",
      "source": [
        "<a href=\"https://colab.research.google.com/github/StefanMeyer7/Python-Fundamentals/blob/main/SelectionChallenge.ipynb\" target=\"_parent\"><img src=\"https://colab.research.google.com/assets/colab-badge.svg\" alt=\"Open In Colab\"/></a>"
      ],
      "metadata": {
        "id": "hypbENCo_DGn"
      }
    },
    {
      "cell_type": "markdown",
      "source": [
        "# Three selection challenges\n",
        "\n",
        "---\n"
      ],
      "metadata": {
        "id": "dXBVr9XG_X_R"
      }
    },
    {
      "cell_type": "markdown",
      "source": [
        "### Challenge 1 - password format  \n",
        "\n",
        "Write a function called **check_password_valid()** which will check the validity of a **password** input by a user.\n",
        "\n",
        "Rules for a valid password are:  \n",
        "\n",
        "*  At least 1 letter between [a-z] and 1 letter between [A-Z].\n",
        "*  At least 1 number between [0-9].\n",
        "*  At least 1 character from [$#@].\n",
        "*  Minimum length 6 characters.\n",
        "*  Maximum length 16 characters.  \n",
        "\n",
        "Let the user know if the `password` they have typed is valid and, if not, where was the first error.\n",
        "\n",
        "*Hint:  to test if a set of characters is present in a password String, you can use re.search('[character set]', `password`)*  \n",
        "\n",
        "Example:   \n",
        "*if re.search('[a-z]',`password`):*    \n",
        "if there is at least 1 character a-z in the password, re.search will not be None.\n",
        "\n",
        "**re** is a pre-written Python function for pattern searching in Strings.  It has been imported for you in the code cell below.  "
      ],
      "metadata": {
        "id": "_6gwhxsa_Yqt"
      }
    },
    {
      "cell_type": "code",
      "source": [
        "import re\n",
        "\n",
        "# add your check_PasswordValid() function and call below here\n",
        "def check_password_valid():\n",
        "\n",
        "  print(\"Rules for a valid password:\")\n",
        "  print(\" -At least 1 letter between [a-z] and 1 letter between [A-Z].\")\n",
        "  print(\" -At least 1 number between [0-9].\")\n",
        "  print(\" -At least 1 character from [$#@].\")\n",
        "  print(\" -Minimum length 6 characters.\")\n",
        "  print(\" -Maximum length 16 characters.\")\n",
        "  password=str(input(\"Please enter a password: \"))\n",
        "\n",
        "  if re.search('[a-z]',password) == None:\n",
        "    print(\"The password must contain at least 1 letter between [a-z]\")\n",
        "  elif re.search('[A-Z]',password) == None:\n",
        "    print(\"The password must contain at least 1 letter between [A-Z]\")\n",
        "  elif re.search('[1-9]',password) == None:\n",
        "    print(\"The password must contain at least 1 number between [1-9]\")\n",
        "  elif re.search('[$#@]',password) == None:\n",
        "    print(\"The password must contain at least 1 character from [$#@]\")\n",
        "  elif len(password)<6:\n",
        "    print(\"Password too short. Password must be at least 6 characters long\")\n",
        "  elif len(password)>16:\n",
        "    print(\"Password too long. Password must be a maximum of 16 characters long\")\n",
        "  else:\n",
        "    print(\"Password accepted\")\n",
        "\n",
        "\n",
        "check_password_valid()\n",
        "\n"
      ],
      "metadata": {
        "id": "LbgP53vJ_a2T",
        "outputId": "99fdeb68-d205-40e7-b15a-3dbf55108c1b",
        "colab": {
          "base_uri": "https://localhost:8080/"
        }
      },
      "execution_count": 1,
      "outputs": [
        {
          "output_type": "stream",
          "name": "stdout",
          "text": [
            "Rules for a valid password:\n",
            " -At least 1 letter between [a-z] and 1 letter between [A-Z].\n",
            " -At least 1 number between [0-9].\n",
            " -At least 1 character from [$#@].\n",
            " -Minimum length 6 characters.\n",
            " -Maximum length 16 characters.\n",
            "Please enter a password: Cola123@\n",
            "Password accepted\n"
          ]
        }
      ]
    },
    {
      "cell_type": "markdown",
      "source": [
        "---\n",
        "### Challenge 2 - triangle shape  \n",
        "\n",
        "Write a function called **evaluate_triangle_shape()** which will check if a triangle is equilateral, isosceles or scalene, based on the three side lengths entered by a user (**x**, **y** and **z**).\n",
        "\n",
        "An equilateral triangle is a triangle in which all three sides are equal.\n",
        "A scalene triangle is a triangle that has three unequal sides.\n",
        "An isosceles triangle is a triangle with (at least) two equal sides.\n",
        "\n",
        "For example:  \n",
        "A triange with side lengths                                 \n",
        "x: 6                                                                    \n",
        "y: 8                                                                    \n",
        "z: 12                                                                   \n",
        "is a *Scalene triangle*\n",
        "\n",
        "A triangle with side lengths\n",
        "x:5  \n",
        "y:3   \n",
        "z:5  \n",
        "is an *Isosceles triangle*"
      ],
      "metadata": {
        "id": "ItfugXAk_cJI"
      }
    },
    {
      "cell_type": "code",
      "source": [
        "def evaluate_triangle_shape():\n",
        "\n",
        "  x=int(input(\"Please enter the length of side x: \"))\n",
        "  y=int(input(\"Please enter the length of side y: \"))\n",
        "  z=int(input(\"Please enter the length of side z: \"))\n",
        "\n",
        "  if x == y and x == z:\n",
        "   print(\"This is an equilateral triangle\")\n",
        "  elif x == y or x == z:\n",
        "   print(\"This is an isosceles triangle\")\n",
        "  else:\n",
        "   print(\"This is a scalene triangle\")\n",
        "\n",
        "evaluate_triangle_shape()"
      ],
      "metadata": {
        "id": "YhvNRSrR_fwV",
        "outputId": "5f804002-08f2-4fed-9b23-5edc74aa2b38",
        "colab": {
          "base_uri": "https://localhost:8080/"
        }
      },
      "execution_count": null,
      "outputs": [
        {
          "output_type": "stream",
          "name": "stdout",
          "text": [
            "Please enter the length of side x: 5\n",
            "Please enter the length of side y: 3\n",
            "Please enter the length of side z: 5\n",
            "This is an isosceles triangle\n"
          ]
        }
      ]
    },
    {
      "cell_type": "markdown",
      "source": [
        "---\n",
        "### Challenge 3 - which season\n",
        "\n",
        "Write a function called **determine_season()** which will ask the user to enter two integers representing a **month** and **day** and prints the season for that month and day.\n",
        "\n",
        "Note:  for this exercise the season dates are:\n",
        "*  Winter December 21 to March 20    \n",
        "*  Spring March 21 to June 20  \n",
        "*  Summer June 21 to September 20  \n",
        "*  Autumn September 21 to December 20\n",
        "\n",
        "Test input:  \n",
        "Input the month (e.g. January, February etc.): 7                     \n",
        "Input the day: 31                                                       \n",
        "\n",
        "Expected output:  \n",
        "Season is summer\n",
        "\n",
        "*Note: this will require multiple and or or operators and you should use brackets to help Python know which operations to do first*  \n",
        "\n",
        "*For an extra challenge you can check that the day is valid for the month*"
      ],
      "metadata": {
        "id": "DEy3P3-O_gsI"
      }
    },
    {
      "cell_type": "code",
      "source": [
        "def determine_season():\n",
        "\n",
        "  #Winter December 21 to March 20\n",
        "  #Spring March 21 to June 20\n",
        "  #Summer June 21 to September 20\n",
        "  #Autumn September 21 to December 20\n",
        "\n",
        "  month=int(input(\"Please enter the month number (e.g. for January enter 1, for February enter 2 etc): \"))\n",
        "  day=int(input(\"Please enter the day number: \"))\n",
        "\n",
        "  if (month == 1 or month == 3 or month == 5 or month == 7 or month == 8 or month == 10 or month -- 12 ) and day < 1 or day > 31:\n",
        "    print(\"Invalid day entered. The day must be between 1 and 31\")\n",
        "  elif (month == 4 or month == 6 or month == 9 or month -- 11) and day <1 or day > 30:\n",
        "    print(\"Invalid day entered. The day must be between 1 and 30\")\n",
        "  elif month == 2 and day < 1 or day > 29:\n",
        "    print(\"Invalid day entered. The day must be between 1 and 29\")\n",
        "\n",
        "  elif (month == 12 and day >= 21) or month == 1 or month == 2 or (month == 3 and day <= 20):\n",
        "    print(\"The season is winter\")\n",
        "  elif (month == 3 and day >= 21) or month == 4 or month == 5 or (month == 6 and day <= 20):\n",
        "    print(\"The season is spring\")\n",
        "  elif (month == 6 and day >= 21) or month == 7 or month == 8 or (month == 9 and day <= 20):\n",
        "    print(\"The season is summer\")\n",
        "  else:\n",
        "    print(\"The season is autumn\")\n",
        "\n",
        "\n",
        "determine_season()"
      ],
      "metadata": {
        "id": "5hKAawCu_iln",
        "outputId": "cc46fb8c-f21d-4ca2-a592-8ad49ffe247b",
        "colab": {
          "base_uri": "https://localhost:8080/"
        }
      },
      "execution_count": null,
      "outputs": [
        {
          "output_type": "stream",
          "name": "stdout",
          "text": [
            "Please enter the month number (e.g. for January enter 1, for February enter 2 etc): 10\n",
            "Please enter the day number: 4\n",
            "The season is autumn\n"
          ]
        }
      ]
    }
  ]
}