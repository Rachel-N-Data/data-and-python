{
  "cells": [
    {
      "cell_type": "markdown",
      "metadata": {
        "id": "view-in-github",
        "colab_type": "text"
      },
      "source": [
        "<a href=\"https://colab.research.google.com/github/Rachel-N-Data/data-and-python/blob/main/09_WhileLoops.ipynb\" target=\"_parent\"><img src=\"https://colab.research.google.com/assets/colab-badge.svg\" alt=\"Open In Colab\"/></a>"
      ]
    },
    {
      "cell_type": "markdown",
      "metadata": {
        "id": "Vvcpt-18AqVE"
      },
      "source": [
        "<a href=\"https://colab.research.google.com/github/StefanMeyer7/Python-Fundamentals/blob/main/WhileLoops.ipynb\" target=\"_parent\"><img src=\"https://colab.research.google.com/assets/colab-badge.svg\" alt=\"Open In Colab\"/></a>"
      ]
    },
    {
      "cell_type": "markdown",
      "metadata": {
        "id": "-RnyU5DKRZ-v"
      },
      "source": [
        "# While loops\n",
        "\n",
        "---\n"
      ]
    },
    {
      "cell_type": "markdown",
      "metadata": {
        "id": "n_p4mSIpRbzP"
      },
      "source": [
        "There are many situations when an external event (such as an input from the user or finding an invalid data value) will be the thing that will cause the loop to stop.\n",
        "\n",
        "A while loop allows us to say \"repeat these instructions while something has not yet happened, or repeat these instruction while a particular state exists\"\n",
        "\n",
        "For example, we want to ask a user to enter some positive numbers to be added to a total. They will indicate that there are no more numbers by entering -1.\n",
        "\n"
      ]
    },
    {
      "cell_type": "code",
      "execution_count": 1,
      "metadata": {
        "id": "2hJ8FL_sRdN8",
        "outputId": "3b3afa51-36f2-425a-fc99-deb63cb465f4",
        "colab": {
          "base_uri": "https://localhost:8080/"
        }
      },
      "outputs": [
        {
          "output_type": "stream",
          "name": "stdout",
          "text": [
            "Enter a number, or type -1 to stop: 4\n",
            "Enter a number, or type -1 to stop: 5\n",
            "Enter a number, or type -1 to stop: 3\n",
            "Enter a number, or type -1 to stop: 8\n",
            "Enter a number, or type -1 to stop: -1\n",
            "20\n"
          ]
        }
      ],
      "source": [
        "# initialise a total to 0\n",
        "# read the first number\n",
        "# add the number to the total and keep reading next number and adding to total until -1 entered\n",
        "\n",
        "def running_total():\n",
        "    total = 0\n",
        "    num = int(input(\"Enter a number, or type -1 to stop: \"))\n",
        "    while num != -1:\n",
        "        total = total + num\n",
        "        num = int(input(\"Enter a number, or type -1 to stop: \"))\n",
        "    print(total)\n",
        "\n",
        "running_total()"
      ]
    },
    {
      "cell_type": "markdown",
      "metadata": {
        "id": "sLzDEyHLRfyf"
      },
      "source": [
        "**Another example**\n",
        "\n",
        "We want to take a number from the user and keep dividing it by 2 until the answer is 1 or less, then to print the number of times it was divided. Try it out. If you enter 8 then the answer should be 3, if you enter 6 the answer will also be 3."
      ]
    },
    {
      "cell_type": "code",
      "execution_count": 3,
      "metadata": {
        "id": "cBHAFOGjRhvN",
        "outputId": "fd97e139-397d-4946-99d1-ddc79ded53f2",
        "colab": {
          "base_uri": "https://localhost:8080/"
        }
      },
      "outputs": [
        {
          "output_type": "stream",
          "name": "stdout",
          "text": [
            "Enter a number to be processed: 6\n",
            "Your number was divided 3 times\n"
          ]
        }
      ],
      "source": [
        "def div_by_two():\n",
        "  num = int(input(\"Enter a number to be processed: \"))\n",
        "  number_times_divided = 0\n",
        "  while num > 1:\n",
        "    number_times_divided = number_times_divided + 1\n",
        "    num = num/2\n",
        "  print(\"Your number was divided\", number_times_divided, \"times\")\n",
        "\n",
        "div_by_two()"
      ]
    },
    {
      "cell_type": "markdown",
      "metadata": {
        "id": "TPK2bipvRkFS"
      },
      "source": [
        "*Here are some more examples of use of while loops.*\n",
        "\n",
        "### Ensuring valid input  \n",
        "When reading from the keyboard it is important to ensure that the user only enters valid data. You can do this in a number of ways but a while loop can be used to make the user keep entering data until they enter something that is valid."
      ]
    },
    {
      "cell_type": "code",
      "execution_count": 4,
      "metadata": {
        "id": "xPkjgxZERlI1",
        "outputId": "591c8007-fa2c-4e4c-a332-39fc0fa37abf",
        "colab": {
          "base_uri": "https://localhost:8080/"
        }
      },
      "outputs": [
        {
          "output_type": "stream",
          "name": "stdout",
          "text": [
            "You must type a number above 0\n",
            "Enter a positive number: -23\n",
            "You must type a number above 0\n",
            "Enter a positive number: 56\n",
            "Thank you for typing the number 56\n"
          ]
        }
      ],
      "source": [
        "# read a number from the user\n",
        "# check that the number is a positive integer.  If not, display error messages\n",
        "# keep reading until a positive integer is read\n",
        "\n",
        "def positive_num():\n",
        "  number = -1\n",
        "  while number < 0:\n",
        "    print(\"You must type a number above 0\")\n",
        "    number = int(input(\"Enter a positive number: \"))\n",
        "  print(\"Thank you for typing the number\", number)\n",
        "\n",
        "positive_num()"
      ]
    },
    {
      "cell_type": "markdown",
      "metadata": {
        "id": "2dqD95UaRmTn"
      },
      "source": [
        "### Take home points\n",
        "\n",
        "* An algorithm is the method for solving a particular problem (e.g. getting the right sort of number, selecting a message depending on input, calculating a new figure, etc)\n",
        "* A while loop will keep repeating while the given condition is TRUE\n",
        "* As soon as the condition becomes false the loop will stop executing\n",
        "* We use while loops when we don't necessarily know how many times a loop will need to repeat, but we do know under what conditions it does need to repeat."
      ]
    },
    {
      "cell_type": "markdown",
      "metadata": {
        "id": "S1R5GILKRnzw"
      },
      "source": [
        "---\n",
        "### Exercise 1 - get a valid username\n",
        "\n",
        "Write a function called **get_username()** which will:  \n",
        "\n",
        "*  assign the value False to a boolean variable called **valid**  \n",
        "*  start a while loop that will continue to loop while `valid` is False  \n",
        "*  in the loop:  ask the user to enter a **username**,  if the `username` is \"user\" assign the value True to `valid`, otherwise print the message \"Incorrect user name\"   \n",
        "*  after the loop, display the message \"Welcome `username`, you will now be asked to enter your password  \n",
        "\n",
        "Test input:  \n",
        "username   \n",
        "user  \n",
        "\n",
        "Expected output:  \n",
        "Incorrect username  \n",
        "Welcome user you will now be asked to enter your password  "
      ]
    },
    {
      "cell_type": "code",
      "execution_count": null,
      "metadata": {
        "id": "nV0wqIB7Romd",
        "outputId": "c51c3a7e-2f27-4b8f-f07c-317b9c13b23a",
        "colab": {
          "base_uri": "https://localhost:8080/"
        }
      },
      "outputs": [
        {
          "output_type": "stream",
          "name": "stdout",
          "text": [
            "Enter your username: user\n",
            "Welcome user, you will now be asked to enter your password\n"
          ]
        }
      ],
      "source": [
        "def get_username():\n",
        "\n",
        "  valid=False\n",
        "\n",
        "  while valid==False:\n",
        "    username=input(\"Enter your username: \")\n",
        "    if username==\"user\":\n",
        "      valid=True\n",
        "    else:\n",
        "      print(\"Incorrect user name\")\n",
        "\n",
        "  print(\"Welcome\", username+\", you will now be asked to enter your password\")\n",
        "\n",
        "get_username()"
      ]
    },
    {
      "cell_type": "markdown",
      "metadata": {
        "id": "FLigZTZVRpiZ"
      },
      "source": [
        "---\n",
        "### Exercise 2 - get a valid passcode  \n",
        "\n",
        "Write a function called **get_passcode()** which will:  \n",
        "\n",
        "*  assign the value False to a boolean variable called **valid**  \n",
        "*  start a while loop that will continue to loop while `valid` is False  \n",
        "*  in the loop:  ask the user to enter a **passcode**, if the `passcode` is \"9876\" assign the value True to `valid`, otherwise print the message \"Incorrect passcode\"  \n",
        "*  after the loop, display the message \"Passcode accepted\"    \n",
        "\n",
        "Test input:  \n",
        "1234   \n",
        "9876  \n",
        "\n",
        "Expected output:  \n",
        "Incorrect passcode  \n",
        "Passcode accepted  "
      ]
    },
    {
      "cell_type": "code",
      "execution_count": 5,
      "metadata": {
        "id": "dL0_DtM-RqDw",
        "outputId": "59e89298-b296-4d9b-d001-441bc1235401",
        "colab": {
          "base_uri": "https://localhost:8080/"
        }
      },
      "outputs": [
        {
          "output_type": "stream",
          "name": "stdout",
          "text": [
            "Please enter the passcode: 1234\n",
            "Incorrect passcode\n",
            "Please enter the passcode: 9876\n",
            "Passcode accepted\n"
          ]
        }
      ],
      "source": [
        "def get_passcode():\n",
        "\n",
        "  valid=False\n",
        "\n",
        "  while valid==False:\n",
        "    passcode=input(\"Please enter the passcode: \")\n",
        "    if passcode==\"9876\":\n",
        "      valid=True\n",
        "    else:\n",
        "      print(\"Incorrect passcode\")\n",
        "\n",
        "  print(\"Passcode accepted\")\n",
        "\n",
        "get_passcode()"
      ]
    },
    {
      "cell_type": "markdown",
      "metadata": {
        "id": "YpVWKrZtRrAQ"
      },
      "source": [
        "---\n",
        "### Exercise 3 - single digit input  \n",
        "\n",
        "Write a function called **get_digit()** which will:  \n",
        "\n",
        "*  assign the value False to a boolean variable called **valid_digit**  \n",
        "*  use a while loop to repeatedly ask the user to enter a single digit until the value they enter is less than 10     \n",
        "*  in the loop:  ask the user to enter a **single_digit**, if the `single_digit` is less than 10 assign the value True to `valid`, otherwise print the message \"Not a digit\"  \n",
        "*  after the loop, display the message \"Single digit entered\"    \n",
        "\n",
        "Test input:  \n",
        "10   \n",
        "9  \n",
        "\n",
        "Expected output:  \n",
        "Not a digit  \n",
        "Single digit entered  "
      ]
    },
    {
      "cell_type": "code",
      "execution_count": null,
      "metadata": {
        "id": "6dvYLtX_Rrkl",
        "outputId": "fed0ab6d-f26c-4e22-9420-e423d7d07595",
        "colab": {
          "base_uri": "https://localhost:8080/"
        }
      },
      "outputs": [
        {
          "output_type": "stream",
          "name": "stdout",
          "text": [
            "Please enter a single digit: 10\n",
            "Not a digit\n",
            "Please enter a single digit: 9\n",
            "Single digit entered\n"
          ]
        }
      ],
      "source": [
        "def get_digit():\n",
        "\n",
        "  valid_digit=False\n",
        "\n",
        "  while valid_digit==False:\n",
        "    single_digit=int(input(\"Please enter a single digit: \"))\n",
        "    if single_digit < 10:\n",
        "      valid_digit=True\n",
        "    else:\n",
        "      print(\"Not a digit\")\n",
        "\n",
        "  print(\"Single digit entered\")\n",
        "\n",
        "get_digit()"
      ]
    },
    {
      "cell_type": "markdown",
      "metadata": {
        "id": "g0F1vz0gRuI9"
      },
      "source": [
        "---\n",
        "### Exercise 4 - positive number input\n",
        "\n",
        "Write a function called **positive_number()** which will:\n",
        "*  ask the user to enter a **number**, the message should indicate that it must be a positive number  \n",
        "*  if `number` is not positive **(ie. less than 1)** show an error message and ask user to re-enter the `number`\n",
        "*  when the `number` is positive, print the `number`\n",
        "\n",
        "Test input:  \n",
        "-1\n",
        "0\n",
        "1\n",
        "\n",
        "Expected output:  \n",
        "It must be a positive number, try again  \n",
        "It must be a positive number, try again  \n",
        "1  "
      ]
    },
    {
      "cell_type": "code",
      "execution_count": null,
      "metadata": {
        "id": "0a6Xjpm_Ru7P",
        "outputId": "0117b814-6af1-4d2a-9bb6-b03e61eea7ee",
        "colab": {
          "base_uri": "https://localhost:8080/"
        }
      },
      "outputs": [
        {
          "output_type": "stream",
          "name": "stdout",
          "text": [
            "Enter a positive number: -1\n",
            "It must be a posititve number, try again\n",
            "Enter a positive number: 0\n",
            "It must be a posititve number, try again\n",
            "Enter a positive number: 1\n",
            "1\n"
          ]
        }
      ],
      "source": [
        "def positive_number():\n",
        "\n",
        "  valid_number=False\n",
        "\n",
        "  while valid_number==False:\n",
        "    number=int(input(\"Enter a positive number: \"))\n",
        "    if number>=1:\n",
        "      valid_number=True\n",
        "    else:\n",
        "      print(\"It must be a posititve number, try again\")\n",
        "\n",
        "  print(number)\n",
        "\n",
        "positive_number()"
      ]
    },
    {
      "cell_type": "markdown",
      "metadata": {
        "id": "sk3j9oA5RwB3"
      },
      "source": [
        "---\n",
        "### Exercise 5 - getting a number within limits\n",
        "\n",
        "Write a function called **test_limits()** which will:\n",
        "\n",
        "*  ask the user to enter a number between **1 and 31**\n",
        "*  if the number entered is less than 1 or more than 31, display the error message \"Number out of limits\"  \n",
        "*  continue asking the user until a valid input is given\n",
        "*  when a valid number is given, display the message \"Your number was `number`\" and end the program\n",
        "\n",
        "Test input:  \n",
        "40  \n",
        "50  \n",
        "30  \n",
        "\n",
        "Expected output:  \n",
        "Number out of limits  \n",
        "Number out of limits  \n",
        "Your number was 30  \n"
      ]
    },
    {
      "cell_type": "code",
      "execution_count": null,
      "metadata": {
        "id": "B7St8qkNRwlx",
        "outputId": "67970b61-e313-46ec-ed37-8dba3cc93a95",
        "colab": {
          "base_uri": "https://localhost:8080/"
        }
      },
      "outputs": [
        {
          "output_type": "stream",
          "name": "stdout",
          "text": [
            "Enter a number between 1 and 31: 40\n",
            "Number out of limits\n",
            "Enter a number between 1 and 31: 50\n",
            "Number out of limits\n",
            "Enter a number between 1 and 31: 30\n",
            "Your number was 30\n"
          ]
        }
      ],
      "source": [
        "def test_limits():\n",
        "\n",
        "  validNum=False\n",
        "\n",
        "  while validNum==False:\n",
        "    number=int(input(\"Enter a number between 1 and 31: \"))\n",
        "    if number>=1 and number<=31:\n",
        "      validNum=True\n",
        "    else:\n",
        "      print(\"Number out of limits\")\n",
        "\n",
        "  print(\"Your number was\", number)\n",
        "\n",
        "test_limits()"
      ]
    },
    {
      "cell_type": "markdown",
      "metadata": {
        "id": "3UQCE622Rx4G"
      },
      "source": [
        "---\n",
        "### Exercise 6 - getting a number outside range\n",
        "\n",
        "Write a function called **test_outlier()** which will:\n",
        "\n",
        "*  ask the user to enter a **number** that is NOT between 40 and 50  \n",
        "*  if the `number` entered is between 40 and 50 (including both 40 and 50, display the error message \"This is not an outlier\"\n",
        "*  continue asking the user until a valid `number` is given\n",
        "*  when a valid `number` is given, display the message \"You have entered an outlier\" and end the program  \n",
        "\n",
        "Test input:  \n",
        "34  \n",
        "\n",
        "Expected output:  \n",
        "You have entered an outlier  \n",
        "\n",
        "Test input:  \n",
        "44  \n",
        "50  \n",
        "40  \n",
        "34  \n",
        "\n",
        "Expected output:  \n",
        "This is not an outlier  \n",
        "This is not an outlier  \n",
        "This is not an outlier  \n",
        "You have entered an outlier  "
      ]
    },
    {
      "cell_type": "code",
      "execution_count": null,
      "metadata": {
        "id": "o4DfpZjCRyZZ",
        "outputId": "e1f95d2c-dac6-444b-e662-afa68198595d",
        "colab": {
          "base_uri": "https://localhost:8080/"
        }
      },
      "outputs": [
        {
          "output_type": "stream",
          "name": "stdout",
          "text": [
            "Please enter a number NOT between 40 and 50: 44\n",
            "This is not an outlier\n",
            "Please enter a number NOT between 40 and 50: 50\n",
            "This is not an outlier\n",
            "Please enter a number NOT between 40 and 50: 40\n",
            "This is not an outlier\n",
            "Please enter a number NOT between 40 and 50: 34\n",
            "You have entered an outlier\n"
          ]
        }
      ],
      "source": [
        "def test_outlier():\n",
        "\n",
        "  outlier=False\n",
        "\n",
        "  while outlier==False:\n",
        "\n",
        "    number=int(input(\"Please enter a number NOT between 40 and 50: \"))\n",
        "    if number<40 or number>50:\n",
        "      outlier=True\n",
        "    else:\n",
        "      print(\"This is not an outlier\")\n",
        "\n",
        "  print(\"You have entered an outlier\")\n",
        "\n",
        "test_outlier()"
      ]
    },
    {
      "cell_type": "markdown",
      "metadata": {
        "id": "w3mUSa2nRz-4"
      },
      "source": [
        "---\n",
        "### Exercise 7 - multiplying a number to be greater than 20,000\n",
        "\n",
        "Write a function called **increase_to_twenty_thousand()** that will:\n",
        "\n",
        "*  ask the user to input a **number**\n",
        "*  multiply given `number` by itself repeatedly, printing its value each time it changes, until the  number has become greater (>) than 20,000\n",
        "\n",
        "Test input:  \n",
        "5\n",
        "\n",
        "Expected output:  \n",
        "5   \n",
        "25  \n",
        "125  \n",
        "625  \n",
        "3125  \n",
        "15625  \n",
        "78125  \n"
      ]
    },
    {
      "cell_type": "code",
      "execution_count": null,
      "metadata": {
        "id": "JZHN6AWxR0cO",
        "outputId": "7ed03905-d5c4-4611-c8d2-2443c579b4c3",
        "colab": {
          "base_uri": "https://localhost:8080/"
        }
      },
      "outputs": [
        {
          "output_type": "stream",
          "name": "stdout",
          "text": [
            "Enter a number: 5\n",
            "5\n",
            "25\n",
            "125\n",
            "625\n",
            "3125\n",
            "15625\n",
            "78125\n"
          ]
        }
      ],
      "source": [
        "def increase_to_twenty_thousand():\n",
        "\n",
        "  max=False\n",
        "  total=1\n",
        "  number=int(input(\"Enter a number: \"))\n",
        "\n",
        "  while max==False:\n",
        "    if total>20000:\n",
        "      max=True\n",
        "    else:\n",
        "      total=number*total\n",
        "      print(total)\n",
        "\n",
        "\n",
        "\n",
        "increase_to_twenty_thousand()"
      ]
    },
    {
      "cell_type": "markdown",
      "metadata": {
        "id": "ERzOyjTnR1hV"
      },
      "source": [
        "---\n",
        "### Exercise 8 - even and odds\n",
        "\n",
        "Write a function called **get_even_number()** that:\n",
        "\n",
        "*  asks the user to input an even number (divisible by 2)\n",
        "*  if an odd number is given, display message \"That number is odd\"\n",
        "*  once valid input given (even number), display message \"Thanks, that number is even\"\n",
        "\n",
        "Test input:  \n",
        "3  \n",
        "1  \n",
        "2  \n",
        "\n",
        "Expected output:  \n",
        "That number is odd  \n",
        "That number is odd  \n",
        "Thanks, that number is even  \n",
        "\n"
      ]
    },
    {
      "cell_type": "code",
      "execution_count": null,
      "metadata": {
        "id": "QvNTcmIVR1_J",
        "outputId": "07752cc7-b10a-4632-d635-fd96289cd0f4",
        "colab": {
          "base_uri": "https://localhost:8080/"
        }
      },
      "outputs": [
        {
          "output_type": "stream",
          "name": "stdout",
          "text": [
            "Enter an even number: 3\n",
            "That number is odd\n",
            "Enter an even number: 1\n",
            "That number is odd\n",
            "Enter an even number: 2\n",
            "Thanks, that number is even\n"
          ]
        }
      ],
      "source": [
        "def get_even_number():\n",
        "\n",
        "  even=False\n",
        "\n",
        "  while even==False:\n",
        "    number=int(input(\"Enter an even number: \"))\n",
        "    if number%2==0:\n",
        "      even=True\n",
        "    else:\n",
        "      print(\"That number is odd\")\n",
        "  print(\"Thanks, that number is even\")\n",
        "\n",
        "get_even_number()"
      ]
    },
    {
      "cell_type": "markdown",
      "metadata": {
        "id": "ZCSQdEL4R3FP"
      },
      "source": [
        "### Exercise 9 - menu choice\n",
        "\n",
        "Write a function called **show_special_numbers()** which will:\n",
        "\n",
        "*  display the following menu\n",
        "\n",
        "*What value would you like to see?*\n",
        "\n",
        "1. *Pi*\n",
        "2. *Plank’s constant*\n",
        "3. *E*\n",
        "4. *Square root of 2*\n",
        "5. *Quit the program*\n",
        "\n",
        "*  ask the user to input which value they would like to see by typing a number between 1 - 5\n",
        "*  read and process the choice while the user selects anything other than 5 (Quit the program)\n",
        "\n",
        "To process the choice:  \n",
        "* if the number is 1 - print 3.14159265359\n",
        "* if the number is 2 - print 6.62607004 × 10-34 (in Python this would be written 6.62607004E-34\n",
        "* if the number is 3 - print 2.71828\n",
        "* if the number is 4 - print 1.414\n",
        "* if the number is 5 - print the message (\"Thank you for using this program\")\n",
        "* if the number is anything else - print \"Invalid choice\"\n",
        "\n",
        "The program will print the message associated with the menu choice and will then display the menu again and ask the user to select a choice.  \n",
        "\n",
        "When the user enters 5, the program should stop repeating.\n",
        "\n",
        "Test input:    \n",
        "1  \n",
        "4  \n",
        "6  \n",
        "5  \n",
        "\n",
        "Expected output:    \n",
        "3.14159265359  \n",
        "1.414  \n",
        "Invalid choice  \n",
        "Thank you for using this program  "
      ]
    },
    {
      "cell_type": "code",
      "execution_count": null,
      "metadata": {
        "id": "kh5XaJ9IR3dF",
        "outputId": "437d82c5-165d-469f-f310-d6aecb7fd05e",
        "colab": {
          "base_uri": "https://localhost:8080/"
        }
      },
      "outputs": [
        {
          "output_type": "stream",
          "name": "stdout",
          "text": [
            "What value would you like to see?\n",
            " 1. Pi\n",
            " 2. Plank’s constant\n",
            " 3. E\n",
            " 4. Square root of 2\n",
            " 5. Quit the program\n",
            "Please choose by typing a number between 1 and 5: 1\n",
            "3.14159265359\n",
            "Please choose by typing a number between 1 and 5: 4\n",
            "1.414\n",
            "Please choose by typing a number between 1 and 5: 6\n",
            "Invalid choice\n",
            "Please choose by typing a number between 1 and 5: 5\n",
            "Thank you for using this program\n"
          ]
        }
      ],
      "source": [
        "def show_special_numbers():\n",
        "\n",
        "  print(\"What value would you like to see?\")\n",
        "  print(\" 1. Pi\")\n",
        "  print(\" 2. Plank’s constant\")\n",
        "  print(\" 3. E\")\n",
        "  print(\" 4. Square root of 2\")\n",
        "  print(\" 5. Quit the program\")\n",
        "\n",
        "  quit=False\n",
        "\n",
        "  while quit==False:\n",
        "\n",
        "    number=int(input(\"Please choose by typing a number between 1 and 5: \"))\n",
        "\n",
        "    if number==5:\n",
        "      quit=True\n",
        "    elif number==1:\n",
        "      print(\"3.14159265359\")\n",
        "    elif number==2:\n",
        "      print(\"6.62607004 × 10-34\")\n",
        "    elif number==3:\n",
        "      print(\"2.71828\")\n",
        "    elif number==4:\n",
        "      print(\"1.414\")\n",
        "    else:\n",
        "      print(\"Invalid choice\")\n",
        "  print(\"Thank you for using this program\")\n",
        "\n",
        "show_special_numbers()"
      ]
    },
    {
      "cell_type": "markdown",
      "metadata": {
        "id": "DyPLs0t2R4p8"
      },
      "source": [
        "---\n",
        "### Exercise 10 - Guess the number  \n",
        "\n",
        "Write a function called **guess_number(number)** which will:  \n",
        "\n",
        "Ask the user to guess the number within 6 attempts.  \n",
        "\n",
        "The function will be given a random number (called `number`) and should use a while loop that will continue while the user has not guessed correctly and has had less than 6 attempts (don't forget to set the number of attempts to 0 before the loop and increment it every time a guess is made).  \n",
        "\n",
        "In the loop:  \n",
        "\n",
        "*  ask the user to enter a **guess**  \n",
        "*  if the `guess` is greater than the `number` print \"Too high\", if less than the number print \"Too low\" or if correct print \"You guessed it\"  \n",
        "*  count the `attempt`  \n",
        "\n",
        "After the loop if the maximum attempts has been reached, print \"Too many attempts\"\n",
        "\n",
        "\n"
      ]
    },
    {
      "cell_type": "code",
      "execution_count": null,
      "metadata": {
        "id": "iVJDZd5pR5Kb",
        "outputId": "1972282c-655e-4db0-d8bc-f0480a137312",
        "colab": {
          "base_uri": "https://localhost:8080/"
        }
      },
      "outputs": [
        {
          "output_type": "stream",
          "name": "stdout",
          "text": [
            "Guess the number between 1 and 50: 39\n",
            "Too high\n",
            "Guess the number between 1 and 50: 23\n",
            "Too low\n",
            "Guess the number between 1 and 50: 28\n",
            "Too low\n",
            "Guess the number between 1 and 50: 30\n",
            "You guessed it!\n"
          ]
        }
      ],
      "source": [
        "from random import randint\n",
        "\n",
        "def guess_number(number):\n",
        "  # add your code below here, remembering to indent\n",
        "  attempt=0\n",
        "  guess=\"\"\n",
        "\n",
        "  while guess!=number and attempt<6:\n",
        "    guess=int(input(\"Guess the number between 1 and 50: \"))\n",
        "\n",
        "    if guess==number:\n",
        "      print(\"You guessed it!\")\n",
        "    elif guess<number:\n",
        "      print(\"Too low\")\n",
        "      attempt=attempt+1\n",
        "    elif guess>number:\n",
        "      print(\"Too high\")\n",
        "      attempt=attempt+1\n",
        "\n",
        "guess_number(randint(1,50))"
      ]
    }
  ],
  "metadata": {
    "colab": {
      "provenance": [],
      "include_colab_link": true
    },
    "kernelspec": {
      "display_name": "Python 3",
      "name": "python3"
    },
    "language_info": {
      "name": "python"
    }
  },
  "nbformat": 4,
  "nbformat_minor": 0
}